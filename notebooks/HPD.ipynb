{
 "cells": [
  {
   "cell_type": "code",
   "execution_count": 11,
   "metadata": {},
   "outputs": [],
   "source": [
    "# Import\n",
    "\n",
    "import os\n",
    "from pathlib import Path\n",
    "from shapely.geometry import Point\n",
    "import numpy as np\n",
    "import pandas as pd \n",
    "import geopandas as gpd\n",
    "import leafmap.foliumap as leafmap"
   ]
  },
  {
   "cell_type": "code",
   "execution_count": 12,
   "metadata": {},
   "outputs": [
    {
     "data": {
      "text/plain": [
       "'C:\\\\Users\\\\alons\\\\OneDrive\\\\Documents\\\\Code\\\\Python\\\\HSS350\\\\data'"
      ]
     },
     "execution_count": 12,
     "metadata": {},
     "output_type": "execute_result"
    }
   ],
   "source": [
    "# Pathing\n",
    "\n",
    "current = Path.cwd() \n",
    "parent = current.resolve().parent / 'data'\n",
    "os.chdir(parent)\n",
    "os.getcwd()"
   ]
  },
  {
   "cell_type": "code",
   "execution_count": 13,
   "metadata": {},
   "outputs": [],
   "source": [
    "# Load\n",
    "\n",
    "#HPD_Aff_Build = pd.read_csv(\"Affordable_Housing_Production_by_Building_20241025.csv\")\n",
    "#HPD_Aff_Project = pd.read_csv(\"Affordable_Housing_Production_by_Project_20241025.csv\")\n",
    "\n",
    "#PLUTO_geo = gpd.read_file(\"PLUTO_geo.geojson\")\n",
    "\n",
    "# HPD_AFF_Build_BG22_geo = gpd.read_file(\"HPD_Aff_Build_BG22_geo.geojson\")\n",
    "# HPD_AFF_Build_BG22_geo = HPD_AFF_Build_BG22_geo.fillna(0)\n",
    "# HPD_AFF_Build_BG22_geo.to_file(filename=\"HPD_AFF_Build_BG22_geo.geojson\", driver=\"GeoJSON\")\n",
    "\n",
    "HPD_AFF_Project_421a_BG22_geo = gpd.read_file(\"HPD_AFF_Project_421a_BG22_geo.geojson\")\n",
    "HPD_AFF_Project_421a_BG22_geo = HPD_AFF_Project_421a_BG22_geo.fillna(0)\n",
    "HPD_AFF_Project_421a_BG22_geo.to_file(filename=\"HPD_AFF_Project_421a_BG22_geo.geojson\", driver=\"GeoJSON\")\n",
    "\n",
    "\n"
   ]
  },
  {
   "cell_type": "code",
   "execution_count": 14,
   "metadata": {},
   "outputs": [],
   "source": [
    "# # Variables\n",
    "\n",
    "# HPD_Aff_Project_421a = HPD_Aff_Project.loc[HPD_Aff_Project['Planned Tax Benefit'] == '421a']"
   ]
  },
  {
   "cell_type": "code",
   "execution_count": 15,
   "metadata": {},
   "outputs": [],
   "source": [
    "# Unit_by_Inc_columns = ['Extremely Low Income Units',\n",
    "#                        'Very Low Income Units',\n",
    "#                        'Low Income Units',\n",
    "#                        'Moderate Income Units',\n",
    "#                        'Middle Income Units',\n",
    "#                        'Other Income Units',\n",
    "#                        'Counted Rental Units',\n",
    "#                        'Counted Homeownership Units',\n",
    "#                        'All Counted Units',\n",
    "#                        'Total Units']"
   ]
  },
  {
   "cell_type": "code",
   "execution_count": 16,
   "metadata": {},
   "outputs": [],
   "source": [
    "# # HPD \n",
    "\n",
    "# HPD_Aff_Build_BBL = HPD_Aff_Build.groupby('BBL').agg({col: 'sum' for col in Unit_by_Inc_columns}).reset_index()\n",
    "\n",
    "# HPD_Aff_Build_BBL.rename(columns={'BBL': 'bbl'}, inplace=True)\n",
    "\n",
    "# HPD_Aff_Build_BBL_geo = pd.merge(left=HPD_Aff_Build_BBL,\n",
    "#                                  right=PLUTO_geo,\n",
    "#                                  how='left',\n",
    "#                                  on='bbl')\n",
    "\n",
    "# HPD_Aff_Build_BBL_geo = gpd.GeoDataFrame(HPD_Aff_Build_BBL_geo, geometry='geometry', crs=4326)\n",
    "\n",
    "# HPD_Aff_Build_BBL_geo['bbl'] = HPD_Aff_Build_BBL_geo['bbl'].astype('int64')\n",
    "\n",
    "# HPD_Aff_Build_BBL_geo.to_file(filename=\"HPD_Aff_Build_BBL_geo.geojson\", driver=\"GeoJSON\")"
   ]
  },
  {
   "cell_type": "code",
   "execution_count": null,
   "metadata": {},
   "outputs": [],
   "source": []
  },
  {
   "cell_type": "code",
   "execution_count": 17,
   "metadata": {},
   "outputs": [],
   "source": [
    "# # HPD 421a\n",
    "\n",
    "# HPD_Aff_Build_short = HPD_Aff_Build[['Project ID',\n",
    "#                                      'Project Name',\n",
    "#                                      'BBL']]\n",
    "                                     \n",
    "# HPD_Aff_Project_421a_merged = pd.merge(left=HPD_Aff_Build_short,\n",
    "#                                        right=HPD_Aff_Project_421a,\n",
    "#                                        how='left',\n",
    "#                                        on='Project ID')\n",
    "\n",
    "# HPD_Aff_Project_421a_BBL = HPD_Aff_Project_421a_merged.groupby('BBL').agg({col: 'sum' for col in Unit_by_Inc_columns}).reset_index()\n",
    "\n",
    "# HPD_Aff_Project_421a_BBL.rename(columns={'BBL': 'bbl'}, inplace=True)\n",
    "\n",
    "# HPD_Aff_Project_421a_BBL_geo = pd.merge(left=HPD_Aff_Project_421a_BBL,\n",
    "#                                  right=PLUTO_geo,\n",
    "#                                  how='left',\n",
    "#                                  on='bbl')\n",
    "# HPD_Aff_Project_421a_BBL_geo = gpd.GeoDataFrame(HPD_Aff_Project_421a_BBL_geo, geometry='geometry', crs=4326)\n",
    "# HPD_Aff_Project_421a_BBL_geo['bbl'] = HPD_Aff_Project_421a_BBL_geo['bbl'].astype('int64')\n",
    "\n",
    "# HPD_Aff_Project_421a_BBL_geo.to_file(filename=\"HPD_Aff_Project_421a_BBL_geo.geojson\", driver=\"GeoJSON\")"
   ]
  }
 ],
 "metadata": {
  "kernelspec": {
   "display_name": "Python 3",
   "language": "python",
   "name": "python3"
  },
  "language_info": {
   "codemirror_mode": {
    "name": "ipython",
    "version": 3
   },
   "file_extension": ".py",
   "mimetype": "text/x-python",
   "name": "python",
   "nbconvert_exporter": "python",
   "pygments_lexer": "ipython3",
   "version": "3.11.8"
  }
 },
 "nbformat": 4,
 "nbformat_minor": 2
}
