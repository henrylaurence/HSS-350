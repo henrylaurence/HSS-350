{
 "cells": [
  {
   "cell_type": "code",
   "execution_count": 4,
   "metadata": {},
   "outputs": [],
   "source": [
    "# Import\n",
    "\n",
    "import os\n",
    "from pathlib import Path\n",
    "from shapely.geometry import Point\n",
    "import numpy as np\n",
    "import pandas as pd\n",
    "import geopandas as gpd\n",
    "import leafmap.foliumap as leafmap"
   ]
  },
  {
   "cell_type": "code",
   "execution_count": 5,
   "metadata": {},
   "outputs": [
    {
     "data": {
      "text/plain": [
       "'C:\\\\Users\\\\alons\\\\OneDrive\\\\Documents\\\\Code\\\\Python\\\\HSS350\\\\data'"
      ]
     },
     "execution_count": 5,
     "metadata": {},
     "output_type": "execute_result"
    }
   ],
   "source": [
    "# Pathing\n",
    "\n",
    "current = Path.cwd() \n",
    "parent = current.resolve().parent / 'data'\n",
    "os.chdir(parent)\n",
    "os.getcwd()"
   ]
  },
  {
   "cell_type": "code",
   "execution_count": 6,
   "metadata": {},
   "outputs": [
    {
     "data": {
      "text/plain": [
       "Index(['PARID', 'BORO', 'BLOCK', 'LOT', 'EASE', 'RECTYPE', 'YEAR', 'REUC',\n",
       "       'PERIOD', 'EXMP_CODE', 'EXMP_CODE-SUFFIX', 'EXMP_SEQ', 'NYS_EXMP_CODE',\n",
       "       'PSTATUS', 'COOP_NUM', 'CONDO_NUMBER', 'CONDO_SFX', 'PYEXMPTOT',\n",
       "       'PYEXMPTRN', 'PYEXMPTXBL', 'TENEXMPTOT', 'TENEXMPTRN', 'TENEXMPTXBL',\n",
       "       'CBNEXMPTOT', 'CBNEXMPTRN', 'CBNEXMPTXBL', 'FINEXMPTOT', 'FINEXMPTRN',\n",
       "       'FINEXMPTXBL', 'CUREXMPTOT', 'CUREXMPTRN', 'CUREXMPTXBL', 'Create date',\n",
       "       'EXNAME', 'Percent 1', 'Percent 2', 'ENTER_DATE', 'Percent 4', 'OWNER2',\n",
       "       'PYINCRPCT1', 'PYINCRPCT2', 'PYINCRPCT3', 'PYINCRPCT4', 'STATUS',\n",
       "       'COMPUTE_FLG', 'PYPARTIALPCT', 'NO_YEARS', 'BASEYR', 'BASETOT',\n",
       "       'BASETRNTOT', 'GARGCOMACT', 'GARGCOMPCT', 'GARGCOMTRN', 'BENFTSTART',\n",
       "       'ICIP_APPNO', '421G_CERT', 'EFF_DATE', 'PRELIMDATE',\n",
       "       '421G base value ACT', 'J51 prev exmpt ACT', 'J51 prev exmpt TRN',\n",
       "       'J51 base val ACT', 'J51 vase val TRN', 'CASENO', 'LLINE', 'EXTRACTDT',\n",
       "       'BLDG-CLASS', 'FINTAXCLASS', 'Percent 3', 'J51 Govt Financed'],\n",
       "      dtype='object')"
      ]
     },
     "execution_count": 6,
     "metadata": {},
     "output_type": "execute_result"
    }
   ],
   "source": [
    "# Load\n",
    "\n",
    "DOF_421a_BBL = pd.read_csv(\"homeowners_421A_exemptions_nyc.csv\")\n",
    "\n",
    "DOF_421a_BBL.columns"
   ]
  }
 ],
 "metadata": {
  "kernelspec": {
   "display_name": "Python 3",
   "language": "python",
   "name": "python3"
  },
  "language_info": {
   "codemirror_mode": {
    "name": "ipython",
    "version": 3
   },
   "file_extension": ".py",
   "mimetype": "text/x-python",
   "name": "python",
   "nbconvert_exporter": "python",
   "pygments_lexer": "ipython3",
   "version": "3.11.8"
  }
 },
 "nbformat": 4,
 "nbformat_minor": 2
}
