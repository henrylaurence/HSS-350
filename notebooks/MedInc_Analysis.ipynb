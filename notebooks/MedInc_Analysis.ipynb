{
 "cells": [
  {
   "cell_type": "code",
   "execution_count": 12,
   "metadata": {},
   "outputs": [],
   "source": [
    "# Import\n",
    "\n",
    "import os\n",
    "from pathlib import Path\n",
    "from shapely.geometry import Point\n",
    "import numpy as np\n",
    "import pandas as pd\n",
    "import geopandas as gpd\n",
    "import leafmap.foliumap as leafmap"
   ]
  },
  {
   "cell_type": "code",
   "execution_count": 13,
   "metadata": {},
   "outputs": [
    {
     "data": {
      "text/plain": [
       "'C:\\\\Users\\\\alons\\\\OneDrive\\\\Documents\\\\Code\\\\Python\\\\HSS350\\\\data'"
      ]
     },
     "execution_count": 13,
     "metadata": {},
     "output_type": "execute_result"
    }
   ],
   "source": [
    "# Pathing\n",
    "\n",
    "current = Path.cwd() \n",
    "parent = current.resolve().parent / 'data'\n",
    "os.chdir(parent)\n",
    "os.getcwd()"
   ]
  },
  {
   "cell_type": "code",
   "execution_count": 14,
   "metadata": {},
   "outputs": [
    {
     "data": {
      "text/plain": [
       "array(['N/A', 'Moderate', 'Low', 'Very Low', 'Extremely Low', 'Middle',\n",
       "       'High and Above'], dtype=object)"
      ]
     },
     "execution_count": 14,
     "metadata": {},
     "output_type": "execute_result"
    }
   ],
   "source": [
    "MedInc22_AMI22_BG22_geo = gpd.read_file(\"MedInc22_AMI22_BG22_geo.geojson\")\n",
    "MedInc22_AMI22_BG22_geo['AMI22_3Family'].unique()"
   ]
  },
  {
   "cell_type": "code",
   "execution_count": 11,
   "metadata": {},
   "outputs": [],
   "source": [
    "MedInc22_AMI22_BG22_geo['AMI22_3Family_Ranked'] = ''\n",
    "\n",
    "MedInc22_AMI22_BG22_geo.loc[MedInc22_AMI22_BG22_geo['AMI22_3Family'] == 'N/A', 'AMI22_3Family_Ranked'] = '1. N/A'\n",
    "MedInc22_AMI22_BG22_geo.loc[MedInc22_AMI22_BG22_geo['AMI22_3Family'] == 'Extremely Low', 'AMI22_3Family_Ranked'] = '2. Extremely Low'\n",
    "MedInc22_AMI22_BG22_geo.loc[MedInc22_AMI22_BG22_geo['AMI22_3Family'] == 'Very Low', 'AMI22_3Family_Ranked'] = '3. Very Low'\n",
    "MedInc22_AMI22_BG22_geo.loc[MedInc22_AMI22_BG22_geo['AMI22_3Family'] == 'Low', 'AMI22_3Family_Ranked'] = '4. Low'\n",
    "MedInc22_AMI22_BG22_geo.loc[MedInc22_AMI22_BG22_geo['AMI22_3Family'] == 'Moderate', 'AMI22_3Family_Ranked'] = '5. Moderate'\n",
    "MedInc22_AMI22_BG22_geo.loc[MedInc22_AMI22_BG22_geo['AMI22_3Family'] == 'Middle', 'AMI22_3Family_Ranked'] = '6. Middle'\n",
    "MedInc22_AMI22_BG22_geo.loc[MedInc22_AMI22_BG22_geo['AMI22_3Family'] == 'High and Above', 'AMI22_3Family_Ranked'] = '7. High and Above'\n",
    "#MedInc22_AMI22_BG22_geo['Rank'] = MedInc22_AMI22_BG22_geo['Rank'].astype(int)\n",
    "MedInc22_AMI22_BG22_geo.to_file(filename=\"MedInc22_AMI22_BG22_geo.geojson\", driver=\"GeoJSON\")"
   ]
  },
  {
   "cell_type": "code",
   "execution_count": 3,
   "metadata": {},
   "outputs": [],
   "source": [
    "# # # Load\n",
    "\n",
    "# MedInc22_CT20 = pd.read_csv(\"NYC_B19013_CT20.csv\")\n",
    "MedInc22_BG22 = pd.read_csv(\"NYC_B19013_BG22.csv\")\n",
    "\n",
    "# # # Spatial\n",
    "# #Pluto = gpd.read_file(\"PLUTO_geo.geojson\")\n",
    "# NYC_CT20 = gpd.read_file(\"NYC_CT20.geojson\")\n",
    "\n",
    "NYC_BG22 = gpd.read_file(\"NYC_BG22.geojson\")\n",
    "\n"
   ]
  },
  {
   "cell_type": "code",
   "execution_count": 4,
   "metadata": {},
   "outputs": [],
   "source": [
    "# Clean\n",
    "\n",
    "MedInc22_BG22 = MedInc22_BG22.drop(MedInc22_BG22.index[0])\n",
    "MedInc22_BG22['GEO_ID'] = MedInc22_BG22['GEO_ID'].str.slice(start=9) \n",
    "MedInc22_BG22 = MedInc22_BG22[['GEO_ID', 'B19013_001E']]\n",
    "MedInc22_BG22.rename(columns={'GEO_ID': 'GEOID'}, inplace=True)\n",
    "MedInc22_BG22.to_csv(\"MedInc_BG22.csv\")\n",
    "MedInc22_BG22.to_csv(\"MedInc_BG22_control.csv\")"
   ]
  },
  {
   "cell_type": "code",
   "execution_count": 5,
   "metadata": {},
   "outputs": [],
   "source": [
    "# Conditional Columns\n",
    "\n",
    "MedInc22_BG22['AMI22_3Family'] = ''\n",
    "\n",
    "\n",
    "#MedInc22_BG22[(MedInc22_BG22['CompltYear'].between(2012, 2022))]\n",
    "\n",
    "# Preliminary columns\n",
    "MedInc22_BG22.loc[MedInc22_BG22['B19013_001E'] == '-', 'AMI22_3Family'] = 'N/A'\n",
    "MedInc22_BG22.loc[MedInc22_BG22['B19013_001E'] == '2,500-', 'AMI22_3Family'] = 'Extremely Low'\n",
    "MedInc22_BG22.loc[MedInc22_BG22['B19013_001E'] == '250,000+', 'AMI22_3Family'] = 'High and Above'\n",
    "\n",
    "# Dummies\n",
    "\n",
    "MedInc22_BG22['B19013_001E'] = MedInc22_BG22['B19013_001E'].replace('-', 0)\n",
    "MedInc22_BG22['B19013_001E'] = MedInc22_BG22['B19013_001E'].replace('2,500-', 0)\n",
    "MedInc22_BG22['B19013_001E'] = MedInc22_BG22['B19013_001E'].replace('250,000+', 0)\n",
    "MedInc22_BG22['B19013_001E'] = MedInc22_BG22['B19013_001E'].astype(int)\n",
    "\n",
    "# Ordinal AMI22 Columns \n",
    "\n",
    "# Extremely Low\n",
    "MedInc22_BG22.loc[(MedInc22_BG22['B19013_001E'].between(1, 36030)), 'AMI22_3Family'] = 'Extremely Low'\n",
    "MedInc22_BG22.loc[(MedInc22_BG22['B19013_001E'].between(36031, 60050)), 'AMI22_3Family'] = 'Very Low'\n",
    "MedInc22_BG22.loc[(MedInc22_BG22['B19013_001E'].between(60051, 96080)), 'AMI22_3Family'] = 'Low'\n",
    "MedInc22_BG22.loc[(MedInc22_BG22['B19013_001E'].between(96081, 144120)), 'AMI22_3Family'] = 'Moderate'\n",
    "MedInc22_BG22.loc[(MedInc22_BG22['B19013_001E'].between(144121, 192160)), 'AMI22_3Family'] = 'Middle'\n",
    "MedInc22_BG22.loc[(MedInc22_BG22['B19013_001E'].ge(192161)), 'AMI22_3Family'] = 'High and Above'\n",
    "\n",
    "MedInc22_BG22_with_dummies = MedInc22_BG22\n",
    "\n",
    "MedInc22_BG22.drop(columns=[MedInc22_BG22.columns[1]], inplace=True)\n",
    "\n",
    "MedInc22_AMI22_BG22_geo = pd.merge(left=MedInc22_BG22,\n",
    "                                   right=NYC_BG22,\n",
    "                                   how='left',\n",
    "                                   on='GEOID')\n",
    "\n",
    "MedInc22_AMI22_BG22_geo = gpd.GeoDataFrame(MedInc22_AMI22_BG22_geo,\n",
    "                                           geometry='geometry',\n",
    "                                           crs=4326\n",
    "                                           )\n",
    "#MedInc22_AMI22_BG22_geo.to_file(filename='MedInc22_AMI22_BG22_geo.geojson', driver='GeoJSON')\n",
    "\n"
   ]
  },
  {
   "cell_type": "code",
   "execution_count": 6,
   "metadata": {},
   "outputs": [],
   "source": [
    "# # Map\n",
    "# m = leafmap.Map(#center=[40.7248387,-73.9775537]\n",
    "#                 zoom=12, tiles=\"CartoDB.Positron\")\n",
    "# m.add_data(FC_421a_prep_ResUnit_CT20_geo,\n",
    "#            column='UnitCount_by_CT20',\n",
    "#            scheme='NaturalBreaks',\n",
    "#            k=5,\n",
    "#            info_mode='on_hover')\n",
    "# m"
   ]
  },
  {
   "cell_type": "code",
   "execution_count": null,
   "metadata": {},
   "outputs": [],
   "source": [
    "# MedInc22 Stuff\n",
    "\n",
    "# # MedInc22_CT_geo\n",
    "# MedInc22_CT20_geo = pd.merge(left=NYC_CT20,\n",
    "#                              right=MedInc22_CT20,\n",
    "#                              how='left',\n",
    "#                              on='GEOID')\n",
    "# MedInc22_CT20_geo = MedInc22_CT20_geo[['GEOID',\n",
    "#                                        'B19013_001E',\n",
    "#                                        'geometry']]\n",
    "# MedInc22_CT20_geo['B19013_001E'] = MedInc22_CT20_geo['B19013_001E'].fillna(0)\n",
    "# MedInc22_CT20_geo['B19013_001E'] = MedInc22_CT20_geo['B19013_001E'].astype(int)\n",
    "\n",
    "# MedInc22_CT20_geo = gpd.GeoDataFrame(data=MedInc22_CT20_geo,\n",
    "#                                      geometry='geometry',\n",
    "#                                      crs=4326)\n",
    "\n",
    "# # MedInc22_BG22_geo\n",
    "# MedInc22_BG22_geo = pd.merge(left=NYC_BG22,\n",
    "#                              right=MedInc22_BG22,\n",
    "#                              how='left',\n",
    "#                              on='GEOID')\n",
    "\n",
    "# MedInc22_BG22_geo = MedInc22_BG22_geo[['GEOID',\n",
    "#                                        'B19013_001E',\n",
    "#                                        'geometry']]\n",
    "# MedInc22_BG22_geo.to_csv(\"MedInc22_BG22_geo.csv\", index=False)\n",
    "\n",
    "# MedInc22_BG22_geo = MedInc22_BG22_geo[~MedInc22_BG22_geo['B19013_001E'].astype(str).str.contains('-', na=False)]\n",
    "# MedInc22_BG22_geo['B19013_001E'].astype(int)\n",
    "\n",
    "# MedInc22_BG22_geo = gpd.GeoDataFrame(data=MedInc22_BG22_geo,\n",
    "#                                      geometry='geometry',\n",
    "#                                      crs=4326)\n",
    "\n",
    "\n",
    "# MedInc22_CT20_geo.dropna(inplace=True)\n",
    "# FC_421a_prep_ResUnit_by_MedInc22_CT20 = pd.merge(left=FC_421a_prep_ResUnit_CT20,\n",
    "#                                                  right=FC_421a_prep_ResUnit_CT20,\n",
    "#                                                  how='left',\n",
    "#                                                  on='GEOID')\n"
   ]
  }
 ],
 "metadata": {
  "kernelspec": {
   "display_name": "Python 3",
   "language": "python",
   "name": "python3"
  },
  "language_info": {
   "codemirror_mode": {
    "name": "ipython",
    "version": 3
   },
   "file_extension": ".py",
   "mimetype": "text/x-python",
   "name": "python",
   "nbconvert_exporter": "python",
   "pygments_lexer": "ipython3",
   "version": "3.11.8"
  }
 },
 "nbformat": 4,
 "nbformat_minor": 2
}
