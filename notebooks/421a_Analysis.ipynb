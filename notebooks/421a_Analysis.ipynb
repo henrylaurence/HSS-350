{
 "cells": [
  {
   "cell_type": "code",
   "execution_count": 1,
   "metadata": {},
   "outputs": [],
   "source": [
    "# Import\n",
    "\n",
    "import os\n",
    "from pathlib import Path\n",
    "from shapely.geometry import Point\n",
    "import numpy as np\n",
    "import pandas as pd \n",
    "import geopandas as gpd\n",
    "import leafmap.foliumap as leafmap"
   ]
  },
  {
   "cell_type": "code",
   "execution_count": 2,
   "metadata": {},
   "outputs": [
    {
     "data": {
      "text/plain": [
       "'C:\\\\Users\\\\alons\\\\OneDrive\\\\Documents\\\\Code\\\\Python\\\\HSS350\\\\data'"
      ]
     },
     "execution_count": 2,
     "metadata": {},
     "output_type": "execute_result"
    }
   ],
   "source": [
    "# Pathing\n",
    "\n",
    "current = Path.cwd() \n",
    "parent = current.resolve().parent / 'data'\n",
    "os.chdir(parent)\n",
    "os.getcwd()"
   ]
  },
  {
   "cell_type": "code",
   "execution_count": 3,
   "metadata": {},
   "outputs": [],
   "source": [
    "# Load\n",
    "\n",
    "FC_421_prep_ResUnit_BG22_geo = gpd.read_file(\"FC_421_prep_ResUnit_BG22_geo_test.geojson\")\n",
    "\n",
    "# Old Load\n",
    "# # Spatial\n",
    "\n",
    "#PLUTO_geo = gpd.read_file(\"PLUTO_geo.geojson\")\n",
    "#NYC_CT20 = gpd.read_file(\"NYC_CT20.geojson\")\n",
    "#NYC_BG22 = gpd.read_file(\"NYC_BG22.geojson\")\n",
    "\n",
    "# # Attribute\n",
    "# #FC_BBL = pd.read_csv(\"FC_SHD_BBL_Analysis.csv\")\n",
    "#FC_421a_prep = pd.read_csv(\"FC_421a_Prepared.csv\")\n",
    "\n",
    "#FC_421a_prep_ResUnit_BBL_geo = gpd.read_file(\"FC_421a_prep_ResUnit_BBL_geo.geojson\")\n",
    "\n",
    "#FC_421a_ANY_prep = pd.read_csv(\"FC_421a_Aff_Prepared.csv\")"
   ]
  },
  {
   "cell_type": "code",
   "execution_count": 4,
   "metadata": {},
   "outputs": [],
   "source": [
    "# Clean\n",
    "\n",
    "#Pluto['bbl'] = Pluto['bbl'].astype('Int64')\n",
    "\n",
    "# NYC_CT20['GEOID'] = NYC_CT20['GEOID'].str.slice(start=2)\n",
    "# NYC_CT20['GEOID'] = NYC_CT20['GEOID'].astype(str)\n",
    "#FC_BBL['year_built'] = FC_BBL['year_built'].astype(int)\n",
    "\n",
    "# FC_BBL = FC_BBL[['bbl',\n",
    "#                  'standard_address',\n",
    "#                  'boro_id',\n",
    "#                  'sba_id',\n",
    "#                  'ccd_id',\n",
    "#                  'tract_10',\n",
    "#                  'res_units',\n",
    "#                  'year_built',\n",
    "#                  'assessed_value',\n",
    "#                  'latitude',\n",
    "#                  'longitude',\n",
    "#                  'prog_421a',\n",
    "#                  'start_421a',\n",
    "#                  'end_421a',\n",
    "#                  'prog_421a_aff',\n",
    "#                  'start_421a_aff',\n",
    "#                  'end_421a_aff'\n",
    "#                  ]]\n",
    "\n",
    "#FC_BBL.to_json(filename=\"FC_BBL_prepared.geojson\", driver=\"GeoJSON\")"
   ]
  },
  {
   "cell_type": "code",
   "execution_count": 5,
   "metadata": {},
   "outputs": [],
   "source": [
    "# # 421_prep geo\n",
    "\n",
    "# FC_421a_prep_ResUnit_BBL = FC_421a_prep.groupby('bbl')['res_units'].sum().reset_index(name='UnitCount_BBL')\n",
    "\n",
    "# FC_421a_prep_ResUnit_BBL_geo = pd.merge(left=FC_421a_prep_ResUnit_BBL,\n",
    "#                                         right=PLUTO_geo,\n",
    "#                                         how='left',\n",
    "#                                         on='bbl')\n",
    "\n",
    "# FC_421a_prep_ResUnit_BBL_geo = gpd.GeoDataFrame(FC_421a_prep_ResUnit_BBL_geo,\n",
    "#                                                 geometry='geometry',\n",
    "#                                                 crs=4326)\n",
    "\n",
    "# FC_421a_prep_ResUnit_BBL_geo.to_file(filename=\"FC_421a_prep_ResUnit_BBL_geo.geojson\", driver=\"GeoJSON\")\n",
    "\n",
    "# #FC_421a_prep_ResUnit_BBL_geo.dropna(inplace=True)\n"
   ]
  },
  {
   "cell_type": "code",
   "execution_count": 6,
   "metadata": {},
   "outputs": [],
   "source": [
    "# Join\n",
    "\n",
    "# FC_421a_prep_ResUnit_BBL = FC_421a_prep.groupby('bbl')['res_units'].sum().reset_index(name='UnitCount_by_BBL')\n",
    "# FC_421a_prep_ResUnit_BBL_geo = pd.merge(left=FC_421a_prep_ResUnit_BBL,\n",
    "#                                 right=Pluto,\n",
    "#                                 how='left',\n",
    "#                                 on='bbl')\n",
    "# FC_421a_prep_ResUnit_BBL_geo.dropna(inplace=True)\n",
    "# FC_421a_prep_ResUnit_BBL_geo.to_csv('FC_421a_prep_ResUnit_BBL_geo.csv', index=False)\n",
    "\n",
    "# FC_421a_prep_ResUnit_BBL_geo = gpd.GeoDataFrame(FC_421a_prep_ResUnit_BBL,\n",
    "#                                                 geometry='geometry',\n",
    "#                                                 crs=4326\n",
    "#                                                 # )\n",
    "\n",
    "# FC_421a_prep_ResUnit_CT20 = FC_421a_prep_ResUnit_BBL_geo.groupby('GEOID')['UnitCount_by_BBL'].sum().reset_index(name='UnitCount_by_CT20')\n",
    "# #FC_421a_prep_ResUnit_CT20['GEOID'] = FC_421a_prep_ResUnit_CT20['GEOID'].astype(str)\n",
    "\n",
    "# FC_421a_prep_ResUnit_CT20_geo = pd.merge(left=NYC_CT20,\n",
    "#                                          right=FC_421a_prep_ResUnit_CT20,\n",
    "#                                          how='left',\n",
    "#                                          on='GEOID')\n",
    "# FC_421a_prep_ResUnit_CT20_geo['UnitCount_by_CT20'] = FC_421a_prep_ResUnit_CT20_geo['UnitCount_by_CT20'].fillna(0)\n",
    "\n",
    "# FC_421a_prep_ResUnit_CT20_geo = gpd.GeoDataFrame(data=FC_421a_prep_ResUnit_CT20_geo,\n",
    "#                                                  geometry='geometry',\n",
    "#                                                  crs=4326)"
   ]
  },
  {
   "cell_type": "code",
   "execution_count": 7,
   "metadata": {},
   "outputs": [],
   "source": [
    "# # Map\n",
    "# m = leafmap.Map(#center=[40.7248387,-73.9775537]\n",
    "#                 zoom=12, tiles=\"CartoDB.Positron\")\n",
    "# m.add_data(FC_421a_prep_ResUnit_CT20_geo,\n",
    "#            column='UnitCount_by_CT20',\n",
    "#            scheme='NaturalBreaks',\n",
    "#            k=5,\n",
    "#            info_mode='on_hover')\n",
    "# m"
   ]
  },
  {
   "cell_type": "code",
   "execution_count": 8,
   "metadata": {},
   "outputs": [],
   "source": [
    "# # PLUTO Cleaning\n",
    "# PLUTO_short = pd.read_csv(\"PLUTO_short.csv\")\n",
    "\n",
    "# # PLUTO_short = PLUTO_long[['borough',\n",
    "# #                        'block',\n",
    "# #                        'lot',\n",
    "# #                        'cd',\n",
    "# #                        'bct2020',\n",
    "# #                        'address',\n",
    "# #                        'bbl',\n",
    "# #                        'latitude',\n",
    "# #                        'longitude'\n",
    "# #                        ]]\n",
    "\n",
    "# PLUTO_short['FIPS'] = ''\n",
    "# PLUTO_short.loc[PLUTO_short['borough'] == 'MN', 'FIPS'] = '061'\n",
    "# PLUTO_short.loc[PLUTO_short['borough'] == 'BX', 'FIPS'] = '005'\n",
    "# PLUTO_short.loc[PLUTO_short['borough'] == 'BK', 'FIPS'] = '047'\n",
    "# PLUTO_short.loc[PLUTO_short['borough'] == 'QN', 'FIPS'] = '081'\n",
    "# PLUTO_short.loc[PLUTO_short['borough'] == 'SI', 'FIPS'] = '085'\n",
    "\n",
    "# PLUTO_short['bbl'] = PLUTO_short['bbl'].astype('Int64')\n",
    "# PLUTO_short['bct2020'] = PLUTO_short['bct2020'].astype('Int64').astype(str)\n",
    "# PLUTO_short['bct2020'] = PLUTO_short['bct2020'].str.slice(start=1)\n",
    "# PLUTO_short['GEOID'] = PLUTO_short['FIPS'] + PLUTO_short['bct2020']\n",
    "# PLUTO_short['geometry'] = gpd.points_from_xy(PLUTO_short.longitude, PLUTO_short.latitude)\n",
    "\n",
    "# PLUTO_geo = gpd.GeoDataFrame(data=PLUTO_short, geometry='geometry', crs=4326)\n",
    "# PLUTO_geo.drop(columns=[PLUTO_geo.columns[0]], inplace=True)\n",
    "# PLUTO_geo.to_file(filename=\"PLUTO_geo.geojson\", driver=\"GeoJSON\")"
   ]
  }
 ],
 "metadata": {
  "kernelspec": {
   "display_name": "Python 3",
   "language": "python",
   "name": "python3"
  },
  "language_info": {
   "codemirror_mode": {
    "name": "ipython",
    "version": 3
   },
   "file_extension": ".py",
   "mimetype": "text/x-python",
   "name": "python",
   "nbconvert_exporter": "python",
   "pygments_lexer": "ipython3",
   "version": "3.11.8"
  }
 },
 "nbformat": 4,
 "nbformat_minor": 2
}
